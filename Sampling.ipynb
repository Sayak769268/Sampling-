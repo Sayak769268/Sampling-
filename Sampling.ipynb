{
  "nbformat": 4,
  "nbformat_minor": 0,
  "metadata": {
    "colab": {
      "provenance": [],
      "authorship_tag": "ABX9TyN/quaKDIAnJz6hJBa3milS",
      "include_colab_link": true
    },
    "kernelspec": {
      "name": "python3",
      "display_name": "Python 3"
    },
    "language_info": {
      "name": "python"
    }
  },
  "cells": [
    {
      "cell_type": "markdown",
      "metadata": {
        "id": "view-in-github",
        "colab_type": "text"
      },
      "source": [
        "<a href=\"https://colab.research.google.com/github/Sayak769268/Sampling-/blob/main/Sampling.ipynb\" target=\"_parent\"><img src=\"https://colab.research.google.com/assets/colab-badge.svg\" alt=\"Open In Colab\"/></a>"
      ]
    },
    {
      "cell_type": "code",
      "execution_count": 5,
      "metadata": {
        "id": "iwzQeQ_gpNAl"
      },
      "outputs": [],
      "source": [
        "import pandas as pd\n",
        "import numpy as np\n",
        "\n",
        "url = \"https://github.com/AnjulaMehto/Sampling_Assignment/raw/main/Creditcard_data.csv\"\n",
        "df = pd.read_csv(url)\n"
      ]
    },
    {
      "cell_type": "code",
      "source": [
        "from imblearn.over_sampling import SMOTE\n",
        "from collections import Counter\n",
        "\n",
        "print(\"Columns in dataset:\", df.columns)\n",
        "\n",
        "X_train = df.drop('Class', axis=1)\n",
        "y_train = df['Class']\n",
        "\n",
        "smote_obj = SMOTE(random_state=42)\n",
        "X_resampled, y_resampled = smote_obj.fit_resample(X_train, y_train)\n",
        "\n",
        "df_balanced = pd.concat([X_resampled, y_resampled], axis=1)\n",
        "\n",
        "print(\"Class counts after applying SMOTE:\", Counter(y_resampled))\n"
      ],
      "metadata": {
        "colab": {
          "base_uri": "https://localhost:8080/"
        },
        "id": "mpuB_CZQtcyZ",
        "outputId": "9ba8f881-b78d-45a4-b377-14b948d92d4e"
      },
      "execution_count": 6,
      "outputs": [
        {
          "output_type": "stream",
          "name": "stdout",
          "text": [
            "Columns in dataset: Index(['Time', 'V1', 'V2', 'V3', 'V4', 'V5', 'V6', 'V7', 'V8', 'V9', 'V10',\n",
            "       'V11', 'V12', 'V13', 'V14', 'V15', 'V16', 'V17', 'V18', 'V19', 'V20',\n",
            "       'V21', 'V22', 'V23', 'V24', 'V25', 'V26', 'V27', 'V28', 'Amount',\n",
            "       'Class'],\n",
            "      dtype='object')\n",
            "Class counts after applying SMOTE: Counter({0: 763, 1: 763})\n"
          ]
        }
      ]
    },
    {
      "cell_type": "code",
      "source": [
        "import matplotlib.pyplot as plt\n",
        "\n",
        "class_counts = Counter(y_resampled)\n",
        "plt.bar(['Negative Class', 'Positive Class'], [class_counts[0], class_counts[1]], color=['skyblue', 'coral'])\n",
        "\n",
        "plt.title('Balanced Class Distribution')\n",
        "plt.ylabel('Number of Samples')\n",
        "plt.xlabel('Class Labels')\n",
        "plt.show()\n"
      ],
      "metadata": {
        "colab": {
          "base_uri": "https://localhost:8080/",
          "height": 472
        },
        "id": "Dh6iPKy1t30_",
        "outputId": "73fcf7b7-ee7f-420c-a9c4-41accc7609a9"
      },
      "execution_count": 7,
      "outputs": [
        {
          "output_type": "display_data",
          "data": {
            "text/plain": [
              "<Figure size 640x480 with 1 Axes>"
            ],
            "image/png": "[encoded data removed]"
          },
          "metadata": {}
        }
      ]
    },
    {
      "cell_type": "code",
      "source": [
        "sample_size = int(len(X_resampled) * 0.1)\n",
        "random_sample = X_resampled.sample(n=sample_size, random_state=42)\n",
        "random_sample_labels = y_resampled.iloc[random_sample.index]\n",
        "\n",
        "print(f\"Randomly Selected Sample Shape: {random_sample.shape}\")\n"
      ],
      "metadata": {
        "colab": {
          "base_uri": "https://localhost:8080/"
        },
        "id": "1CcE81TLuKfI",
        "outputId": "e0411c51-7eea-46fa-cffd-29cc3727a049"
      },
      "execution_count": 16,
      "outputs": [
        {
          "output_type": "stream",
          "name": "stdout",
          "text": [
            "Randomly Selected Sample Shape: (152, 30)\n"
          ]
        }
      ]
    },
    {
      "cell_type": "code",
      "source": [
        "from sklearn.model_selection import StratifiedShuffleSplit\n",
        "\n",
        "splitter = StratifiedShuffleSplit(n_splits=1, test_size=0.1, random_state=42)\n",
        "\n",
        "for _, test_idx in splitter.split(X_resampled, y_resampled):\n",
        "    stratified_subset = X_resampled.iloc[test_idx]\n",
        "    stratified_labels = y_resampled.iloc[test_idx]\n",
        "\n",
        "print(f\"Stratified Sample Shape: {stratified_subset.shape}\")\n"
      ],
      "metadata": {
        "colab": {
          "base_uri": "https://localhost:8080/"
        },
        "id": "KW46EAYAubOv",
        "outputId": "f57b2fcc-fac5-49cf-8dcc-2f8f6d759a05"
      },
      "execution_count": 17,
      "outputs": [
        {
          "output_type": "stream",
          "name": "stdout",
          "text": [
            "Stratified Sample Shape: (153, 30)\n"
          ]
        }
      ]
    },
    {
      "cell_type": "code",
      "source": [
        "step = 10\n",
        "selected_indices = list(range(0, len(X_resampled), step))\n",
        "systematic_subset = X_resampled.iloc[selected_indices]\n",
        "systematic_labels = y_resampled.iloc[selected_indices]\n",
        "\n",
        "print(f\"Systematic Sample Shape: {systematic_subset.shape}\")\n"
      ],
      "metadata": {
        "colab": {
          "base_uri": "https://localhost:8080/"
        },
        "id": "aKf6QAApu78C",
        "outputId": "f2073a3b-d718-46ff-ea94-d10e678b1631"
      },
      "execution_count": 18,
      "outputs": [
        {
          "output_type": "stream",
          "name": "stdout",
          "text": [
            "Systematic Sample Shape: (153, 30)\n"
          ]
        }
      ]
    },
    {
      "cell_type": "code",
      "source": [
        "clusters_list = np.array_split(X_resampled, 5)\n",
        "chosen_cluster = np.random.randint(len(clusters_list))\n",
        "cluster_subset = clusters_list[chosen_cluster]\n",
        "cluster_labels = y_resampled.iloc[cluster_subset.index]\n",
        "\n",
        "print(f\"Cluster Sample Shape: {cluster_subset.shape}\")\n"
      ],
      "metadata": {
        "colab": {
          "base_uri": "https://localhost:8080/"
        },
        "id": "LomRTHI7vMyb",
        "outputId": "d8f424cc-db50-47ce-dc12-02539479f83f"
      },
      "execution_count": 19,
      "outputs": [
        {
          "output_type": "stream",
          "name": "stdout",
          "text": [
            "Cluster Sample Shape: (306, 30)\n"
          ]
        },
        {
          "output_type": "stream",
          "name": "stderr",
          "text": [
            "/usr/local/lib/python3.11/dist-packages/numpy/core/fromnumeric.py:59: FutureWarning: 'DataFrame.swapaxes' is deprecated and will be removed in a future version. Please use 'DataFrame.transpose' instead.\n",
            "  return bound(*args, **kwds)\n"
          ]
        }
      ]
    },
    {
      "cell_type": "code",
      "source": [
        "total_samples = len(X_resampled)\n",
        "bootstrap_indices = np.random.choice(total_samples, size=total_samples, replace=True)\n",
        "bootstrap_subset = X_resampled.iloc[bootstrap_indices]\n",
        "bootstrap_labels = y_resampled.iloc[bootstrap_indices]\n",
        "\n",
        "print(f\"Bootstrap Sample Shape: {bootstrap_subset.shape}\")\n"
      ],
      "metadata": {
        "colab": {
          "base_uri": "https://localhost:8080/"
        },
        "id": "5zgEnaInvRRp",
        "outputId": "a74cf59f-aab3-47c9-a55b-4946f16b0d47"
      },
      "execution_count": 20,
      "outputs": [
        {
          "output_type": "stream",
          "name": "stdout",
          "text": [
            "Bootstrap Sample Shape: (1526, 30)\n"
          ]
        }
      ]
    },
    {
      "cell_type": "code",
      "source": [
        "from sklearn.model_selection import train_test_split\n",
        "from sklearn.metrics import accuracy_score, precision_score, recall_score, f1_score, roc_auc_score\n",
        "from sklearn.linear_model import LogisticRegression\n",
        "from sklearn.ensemble import RandomForestClassifier\n",
        "from sklearn.svm import SVC\n",
        "from sklearn.tree import DecisionTreeClassifier\n",
        "from sklearn.neighbors import KNeighborsClassifier\n",
        "from sklearn.utils import resample\n",
        "import numpy as np\n",
        "\n",
        "def assess_models(X_data, y_data):\n",
        "    classifiers = {\n",
        "        'Logistic Regression': LogisticRegression(),\n",
        "        'Random Forest': RandomForestClassifier(),\n",
        "        'Support Vector Machine': SVC(probability=True),\n",
        "        'Decision Tree': DecisionTreeClassifier(),\n",
        "        'K-Nearest Neighbors': KNeighborsClassifier()\n",
        "    }\n",
        "\n",
        "    sampling_types = ['Random Sampling', 'Systematic Sampling', 'Stratified Sampling', 'Cluster Sampling', 'Bootstrap Sampling']\n",
        "\n",
        "    performance_results = {}\n",
        "\n",
        "    for sampling_type in sampling_types:\n",
        "        performance_results[sampling_type] = {}\n",
        "\n",
        "        if sampling_type == 'Random Sampling':\n",
        "            X_sample, y_sample = resample(X_data, y_data, random_state=42)\n",
        "\n",
        "        elif sampling_type == 'Systematic Sampling':\n",
        "            step_size = len(X_data) // len(y_data)\n",
        "            X_sample, y_sample = X_data[::step_size], y_data[::step_size]\n",
        "\n",
        "        elif sampling_type == 'Stratified Sampling':\n",
        "            X_sample, y_sample = resample(X_data, y_data, stratify=y_data, random_state=42)\n",
        "\n",
        "        elif sampling_type == 'Cluster Sampling':\n",
        "            cluster_size = len(X_data) // 2\n",
        "            X_sample, y_sample = X_data[:cluster_size], y_data[:cluster_size]\n",
        "\n",
        "        elif sampling_type == 'Bootstrap Sampling':\n",
        "            X_sample, y_sample = resample(X_data, y_data, random_state=42)\n",
        "\n",
        "        for model_name, model in classifiers.items():\n",
        "            model.fit(X_sample, y_sample)\n",
        "            y_pred = model.predict(X_sample)\n",
        "\n",
        "            accuracy = accuracy_score(y_sample, y_pred)\n",
        "            precision = precision_score(y_sample, y_pred, average='binary', zero_division=0)\n",
        "            recall = recall_score(y_sample, y_pred, average='binary', zero_division=0)\n",
        "            f1 = f1_score(y_sample, y_pred, average='binary', zero_division=0)\n",
        "            roc_auc = roc_auc_score(y_sample, model.predict_proba(X_sample)[:, 1]) if hasattr(model, \"predict_proba\") else 0.5\n",
        "\n",
        "            performance_results[sampling_type][model_name] = {\n",
        "                'Accuracy': accuracy,\n",
        "                'Precision': precision,\n",
        "                'Recall': recall,\n",
        "                'F1-Score': f1,\n",
        "                'ROC-AUC': roc_auc\n",
        "            }\n",
        "\n",
        "    return performance_results\n",
        "\n",
        "evaluation_results = assess_models(X, y)\n",
        "\n",
        "for sampling_type, models_performance in evaluation_results.items():\n",
        "    print(f\"\\nEvaluating models on {sampling_type} data...\\n\")\n",
        "    for model_name, metrics in models_performance.items():\n",
        "        print(f\"- {model_name} on {sampling_type}:\")\n",
        "        print(f\"  * Accuracy: {metrics['Accuracy']:.4f}\")\n",
        "        print(f\"  * Precision: {metrics['Precision']:.4f}\")\n",
        "        print(f\"  * Recall: {metrics['Recall']:.4f}\")\n",
        "        print(f\"  * F1-Score: {metrics['F1-Score']:.4f}\")\n",
        "        print(f\"  * ROC-AUC: {metrics['ROC-AUC']:.4f}\")\n",
        "\n",
        "accuracies_summary = {sampling_type: {model_name: metrics['Accuracy'] for model_name, metrics in models_performance.items()} for sampling_type, models_performance in evaluation_results.items()}\n",
        "print(\"\\nModel accuracies for each sampling method:\")\n",
        "for sampling_type, accuracies in accuracies_summary.items():\n",
        "    print(f\"\\n- {sampling_type}:\")\n",
        "    for model_name, accuracy in accuracies.items():\n",
        "        print(f\"  * {model_name}: {accuracy:.4f}\")\n"
      ],
      "metadata": {
        "colab": {
          "base_uri": "https://localhost:8080/"
        },
        "id": "wDyI0OBnwoQl",
        "outputId": "25205f47-acec-4b4d-9f3e-d843b04ea7b8"
      },
      "execution_count": 21,
      "outputs": [
        {
          "output_type": "stream",
          "name": "stderr",
          "text": [
            "/usr/local/lib/python3.11/dist-packages/sklearn/linear_model/_logistic.py:465: ConvergenceWarning: lbfgs failed to converge (status=1):\n",
            "STOP: TOTAL NO. of ITERATIONS REACHED LIMIT.\n",
            "\n",
            "Increase the number of iterations (max_iter) or scale the data as shown in:\n",
            "    https://scikit-learn.org/stable/modules/preprocessing.html\n",
            "Please also refer to the documentation for alternative solver options:\n",
            "    https://scikit-learn.org/stable/modules/linear_model.html#logistic-regression\n",
            "  n_iter_i = _check_optimize_result(\n",
            "/usr/local/lib/python3.11/dist-packages/sklearn/linear_model/_logistic.py:465: ConvergenceWarning: lbfgs failed to converge (status=1):\n",
            "STOP: TOTAL NO. of ITERATIONS REACHED LIMIT.\n",
            "\n",
            "Increase the number of iterations (max_iter) or scale the data as shown in:\n",
            "    https://scikit-learn.org/stable/modules/preprocessing.html\n",
            "Please also refer to the documentation for alternative solver options:\n",
            "    https://scikit-learn.org/stable/modules/linear_model.html#logistic-regression\n",
            "  n_iter_i = _check_optimize_result(\n",
            "/usr/local/lib/python3.11/dist-packages/sklearn/linear_model/_logistic.py:465: ConvergenceWarning: lbfgs failed to converge (status=1):\n",
            "STOP: TOTAL NO. of ITERATIONS REACHED LIMIT.\n",
            "\n",
            "Increase the number of iterations (max_iter) or scale the data as shown in:\n",
            "    https://scikit-learn.org/stable/modules/preprocessing.html\n",
            "Please also refer to the documentation for alternative solver options:\n",
            "    https://scikit-learn.org/stable/modules/linear_model.html#logistic-regression\n",
            "  n_iter_i = _check_optimize_result(\n",
            "/usr/local/lib/python3.11/dist-packages/sklearn/linear_model/_logistic.py:465: ConvergenceWarning: lbfgs failed to converge (status=1):\n",
            "STOP: TOTAL NO. of ITERATIONS REACHED LIMIT.\n",
            "\n",
            "Increase the number of iterations (max_iter) or scale the data as shown in:\n",
            "    https://scikit-learn.org/stable/modules/preprocessing.html\n",
            "Please also refer to the documentation for alternative solver options:\n",
            "    https://scikit-learn.org/stable/modules/linear_model.html#logistic-regression\n",
            "  n_iter_i = _check_optimize_result(\n"
          ]
        },
        {
          "output_type": "stream",
          "name": "stdout",
          "text": [
            "\n",
            "Evaluating models on Random Sampling data...\n",
            "\n",
            "- Logistic Regression on Random Sampling:\n",
            "  * Accuracy: 0.9832\n",
            "  * Precision: 0.0000\n",
            "  * Recall: 0.0000\n",
            "  * F1-Score: 0.0000\n",
            "  * ROC-AUC: 0.9053\n",
            "- Random Forest on Random Sampling:\n",
            "  * Accuracy: 1.0000\n",
            "  * Precision: 1.0000\n",
            "  * Recall: 1.0000\n",
            "  * F1-Score: 1.0000\n",
            "  * ROC-AUC: 1.0000\n",
            "- Support Vector Machine on Random Sampling:\n",
            "  * Accuracy: 0.9845\n",
            "  * Precision: 0.0000\n",
            "  * Recall: 0.0000\n",
            "  * F1-Score: 0.0000\n",
            "  * ROC-AUC: 0.9917\n",
            "- Decision Tree on Random Sampling:\n",
            "  * Accuracy: 1.0000\n",
            "  * Precision: 1.0000\n",
            "  * Recall: 1.0000\n",
            "  * F1-Score: 1.0000\n",
            "  * ROC-AUC: 1.0000\n",
            "- K-Nearest Neighbors on Random Sampling:\n",
            "  * Accuracy: 0.9896\n",
            "  * Precision: 0.7500\n",
            "  * Recall: 0.5000\n",
            "  * F1-Score: 0.6000\n",
            "  * ROC-AUC: 0.9957\n",
            "\n",
            "Evaluating models on Systematic Sampling data...\n",
            "\n",
            "- Logistic Regression on Systematic Sampling:\n",
            "  * Accuracy: 0.9883\n",
            "  * Precision: 0.5000\n",
            "  * Recall: 0.1111\n",
            "  * F1-Score: 0.1818\n",
            "  * ROC-AUC: 0.8871\n",
            "- Random Forest on Systematic Sampling:\n",
            "  * Accuracy: 1.0000\n",
            "  * Precision: 1.0000\n",
            "  * Recall: 1.0000\n",
            "  * F1-Score: 1.0000\n",
            "  * ROC-AUC: 1.0000\n",
            "- Support Vector Machine on Systematic Sampling:\n",
            "  * Accuracy: 0.9883\n",
            "  * Precision: 0.0000\n",
            "  * Recall: 0.0000\n",
            "  * F1-Score: 0.0000\n",
            "  * ROC-AUC: 0.9062\n",
            "- Decision Tree on Systematic Sampling:\n",
            "  * Accuracy: 1.0000\n",
            "  * Precision: 1.0000\n",
            "  * Recall: 1.0000\n",
            "  * F1-Score: 1.0000\n",
            "  * ROC-AUC: 1.0000\n",
            "- K-Nearest Neighbors on Systematic Sampling:\n",
            "  * Accuracy: 0.9883\n",
            "  * Precision: 0.0000\n",
            "  * Recall: 0.0000\n",
            "  * F1-Score: 0.0000\n",
            "  * ROC-AUC: 0.9830\n",
            "\n",
            "Evaluating models on Stratified Sampling data...\n",
            "\n",
            "- Logistic Regression on Stratified Sampling:\n",
            "  * Accuracy: 0.9883\n",
            "  * Precision: 0.0000\n",
            "  * Recall: 0.0000\n",
            "  * F1-Score: 0.0000\n",
            "  * ROC-AUC: 0.8957\n",
            "- Random Forest on Stratified Sampling:\n",
            "  * Accuracy: 1.0000\n",
            "  * Precision: 1.0000\n",
            "  * Recall: 1.0000\n",
            "  * F1-Score: 1.0000\n",
            "  * ROC-AUC: 1.0000\n",
            "- Support Vector Machine on Stratified Sampling:\n",
            "  * Accuracy: 0.9883\n",
            "  * Precision: 0.0000\n",
            "  * Recall: 0.0000\n",
            "  * F1-Score: 0.0000\n",
            "  * ROC-AUC: 0.1437\n",
            "- Decision Tree on Stratified Sampling:\n",
            "  * Accuracy: 1.0000\n",
            "  * Precision: 1.0000\n",
            "  * Recall: 1.0000\n",
            "  * F1-Score: 1.0000\n",
            "  * ROC-AUC: 1.0000\n",
            "- K-Nearest Neighbors on Stratified Sampling:\n",
            "  * Accuracy: 0.9922\n",
            "  * Precision: 1.0000\n",
            "  * Recall: 0.3333\n",
            "  * F1-Score: 0.5000\n",
            "  * ROC-AUC: 0.9914\n",
            "\n",
            "Evaluating models on Cluster Sampling data...\n",
            "\n",
            "- Logistic Regression on Cluster Sampling:\n",
            "  * Accuracy: 0.9922\n",
            "  * Precision: 0.0000\n",
            "  * Recall: 0.0000\n",
            "  * F1-Score: 0.0000\n",
            "  * ROC-AUC: 0.9896\n",
            "- Random Forest on Cluster Sampling:\n",
            "  * Accuracy: 1.0000\n",
            "  * Precision: 1.0000\n",
            "  * Recall: 1.0000\n",
            "  * F1-Score: 1.0000\n",
            "  * ROC-AUC: 1.0000\n",
            "- Support Vector Machine on Cluster Sampling:\n",
            "  * Accuracy: 0.9922\n",
            "  * Precision: 0.0000\n",
            "  * Recall: 0.0000\n",
            "  * F1-Score: 0.0000\n",
            "  * ROC-AUC: 0.9217\n",
            "- Decision Tree on Cluster Sampling:\n",
            "  * Accuracy: 1.0000\n",
            "  * Precision: 1.0000\n",
            "  * Recall: 1.0000\n",
            "  * F1-Score: 1.0000\n",
            "  * ROC-AUC: 1.0000\n",
            "- K-Nearest Neighbors on Cluster Sampling:\n",
            "  * Accuracy: 0.9922\n",
            "  * Precision: 0.0000\n",
            "  * Recall: 0.0000\n",
            "  * F1-Score: 0.0000\n",
            "  * ROC-AUC: 0.9896\n",
            "\n",
            "Evaluating models on Bootstrap Sampling data...\n",
            "\n",
            "- Logistic Regression on Bootstrap Sampling:\n",
            "  * Accuracy: 0.9832\n",
            "  * Precision: 0.0000\n",
            "  * Recall: 0.0000\n",
            "  * F1-Score: 0.0000\n",
            "  * ROC-AUC: 0.9053\n",
            "- Random Forest on Bootstrap Sampling:\n",
            "  * Accuracy: 1.0000\n",
            "  * Precision: 1.0000\n",
            "  * Recall: 1.0000\n",
            "  * F1-Score: 1.0000\n",
            "  * ROC-AUC: 1.0000\n",
            "- Support Vector Machine on Bootstrap Sampling:\n",
            "  * Accuracy: 0.9845\n",
            "  * Precision: 0.0000\n",
            "  * Recall: 0.0000\n",
            "  * F1-Score: 0.0000\n",
            "  * ROC-AUC: 0.9920\n",
            "- Decision Tree on Bootstrap Sampling:\n",
            "  * Accuracy: 1.0000\n",
            "  * Precision: 1.0000\n",
            "  * Recall: 1.0000\n",
            "  * F1-Score: 1.0000\n",
            "  * ROC-AUC: 1.0000\n",
            "- K-Nearest Neighbors on Bootstrap Sampling:\n",
            "  * Accuracy: 0.9896\n",
            "  * Precision: 0.7500\n",
            "  * Recall: 0.5000\n",
            "  * F1-Score: 0.6000\n",
            "  * ROC-AUC: 0.9957\n",
            "\n",
            "Model accuracies for each sampling method:\n",
            "\n",
            "- Random Sampling:\n",
            "  * Logistic Regression: 0.9832\n",
            "  * Random Forest: 1.0000\n",
            "  * Support Vector Machine: 0.9845\n",
            "  * Decision Tree: 1.0000\n",
            "  * K-Nearest Neighbors: 0.9896\n",
            "\n",
            "- Systematic Sampling:\n",
            "  * Logistic Regression: 0.9883\n",
            "  * Random Forest: 1.0000\n",
            "  * Support Vector Machine: 0.9883\n",
            "  * Decision Tree: 1.0000\n",
            "  * K-Nearest Neighbors: 0.9883\n",
            "\n",
            "- Stratified Sampling:\n",
            "  * Logistic Regression: 0.9883\n",
            "  * Random Forest: 1.0000\n",
            "  * Support Vector Machine: 0.9883\n",
            "  * Decision Tree: 1.0000\n",
            "  * K-Nearest Neighbors: 0.9922\n",
            "\n",
            "- Cluster Sampling:\n",
            "  * Logistic Regression: 0.9922\n",
            "  * Random Forest: 1.0000\n",
            "  * Support Vector Machine: 0.9922\n",
            "  * Decision Tree: 1.0000\n",
            "  * K-Nearest Neighbors: 0.9922\n",
            "\n",
            "- Bootstrap Sampling:\n",
            "  * Logistic Regression: 0.9832\n",
            "  * Random Forest: 1.0000\n",
            "  * Support Vector Machine: 0.9845\n",
            "  * Decision Tree: 1.0000\n",
            "  * K-Nearest Neighbors: 0.9896\n"
          ]
        }
      ]
    },
    {
      "cell_type": "code",
      "source": [
        "def determine_best_sampling(results):\n",
        "    best_sampling_methods = {}\n",
        "    for model_name in results['Random Sampling'].keys():\n",
        "        highest_accuracy = -1\n",
        "        optimal_sampling_method = \"\"\n",
        "\n",
        "        for sampling_method, model_metrics in results.items():\n",
        "            accuracy = model_metrics[model_name]['Accuracy']\n",
        "            if accuracy > highest_accuracy:\n",
        "                highest_accuracy = accuracy\n",
        "                optimal_sampling_method = sampling_method\n",
        "\n",
        "        best_sampling_methods[model_name] = (optimal_sampling_method, highest_accuracy)\n",
        "\n",
        "    for model_name, (sampling_method, accuracy) in best_sampling_methods.items():\n",
        "        print(f\"Optimal sampling method for {model_name}: {sampling_method} with Accuracy: {accuracy:.4f}\")\n",
        "\n",
        "determine_best_sampling(results)\n"
      ],
      "metadata": {
        "colab": {
          "base_uri": "https://localhost:8080/"
        },
        "id": "QOvIiDX1xEdY",
        "outputId": "90ecaa2d-9a96-409e-b2e7-8bb497c8b76b"
      },
      "execution_count": 22,
      "outputs": [
        {
          "output_type": "stream",
          "name": "stdout",
          "text": [
            "Optimal sampling method for Logistic Regression: Cluster Sampling with Accuracy: 0.9922\n",
            "Optimal sampling method for Random Forest: Random Sampling with Accuracy: 1.0000\n",
            "Optimal sampling method for SVM: Cluster Sampling with Accuracy: 0.9922\n",
            "Optimal sampling method for Decision Tree: Random Sampling with Accuracy: 1.0000\n",
            "Optimal sampling method for K-Nearest Neighbors: Stratified Sampling with Accuracy: 0.9922\n"
          ]
        }
      ]
    }
  ]
}